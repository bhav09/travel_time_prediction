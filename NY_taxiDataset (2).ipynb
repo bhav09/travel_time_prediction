{
  "nbformat": 4,
  "nbformat_minor": 0,
  "metadata": {
    "colab": {
      "name": "NY_taxiDataset.ipynb",
      "provenance": [],
      "collapsed_sections": []
    },
    "kernelspec": {
      "name": "python3",
      "display_name": "Python 3"
    },
    "accelerator": "TPU"
  },
  "cells": [
    {
      "cell_type": "code",
      "metadata": {
        "id": "9txQRlbrat9G",
        "colab_type": "code",
        "colab": {}
      },
      "source": [
        "import pandas as pd\n",
        "import numpy as np"
      ],
      "execution_count": 0,
      "outputs": []
    },
    {
      "cell_type": "code",
      "metadata": {
        "id": "cA47mkk1pe7S",
        "colab_type": "code",
        "colab": {}
      },
      "source": [
        "import os\n",
        "\n",
        "PROJECT_NYC_Taxi2016='/content/drive/My Drive/Colab Notebooks'\n",
        "os.mkdir(PROJECT_NYC_Taxi2016)\n",
        "'''if not os.path.exists(PROJECT_NYC_Taxi2016):\n",
        "    os.mkdir(NYC_Taxi2016)\n",
        "    print(\"Directory \" , PROJECT_NYC_Taxi2016 ,  \" Created \")\n",
        "else:    \n",
        "    print(\"Directory \" , PROJECT_NYC_Taxi2016 ,  \" already exists\")'''"
      ],
      "execution_count": 0,
      "outputs": []
    },
    {
      "cell_type": "code",
      "metadata": {
        "id": "C1IdPQGYpe9h",
        "colab_type": "code",
        "outputId": "f27eed25-c5d7-4763-9840-010fee604c07",
        "colab": {
          "base_uri": "https://localhost:8080/",
          "height": 101
        }
      },
      "source": [
        "! unzip '/content/drive/My Drive/Projects_ML_taxi_dataset/nyc-taxi-trip-duration.zip'"
      ],
      "execution_count": 0,
      "outputs": [
        {
          "output_type": "stream",
          "text": [
            "Archive:  /content/drive/My Drive/Projects_ML_taxi_dataset/nyc-taxi-trip-duration.zip\n",
            "replace sample_submission.zip? [y]es, [n]o, [A]ll, [N]one, [r]ename: y\n",
            "  inflating: sample_submission.zip   \n",
            "  inflating: test.zip                \n",
            "  inflating: train.zip               \n"
          ],
          "name": "stdout"
        }
      ]
    },
    {
      "cell_type": "code",
      "metadata": {
        "id": "LzM7bDgZpfA6",
        "colab_type": "code",
        "outputId": "058bcc5a-9556-48d9-ccf2-5a4dc636911a",
        "colab": {
          "base_uri": "https://localhost:8080/",
          "height": 84
        }
      },
      "source": [
        "! unzip '/content/drive/My Drive/Projects_ML_taxi_dataset/test.zip'\n",
        "! unzip '/content/drive/My Drive/Projects_ML_taxi_dataset/train.zip'"
      ],
      "execution_count": 1,
      "outputs": [
        {
          "output_type": "stream",
          "text": [
            "Archive:  /content/drive/My Drive/Projects_ML_taxi_dataset/test.zip\n",
            "  inflating: test.csv                \n",
            "Archive:  /content/drive/My Drive/Projects_ML_taxi_dataset/train.zip\n",
            "  inflating: train.csv               \n"
          ],
          "name": "stdout"
        }
      ]
    },
    {
      "cell_type": "code",
      "metadata": {
        "id": "EGiMfls79tM_",
        "colab_type": "code",
        "colab": {}
      },
      "source": [
        "df=pd.read_csv('train.csv')"
      ],
      "execution_count": 0,
      "outputs": []
    },
    {
      "cell_type": "code",
      "metadata": {
        "id": "sUPdTfiM9tP4",
        "colab_type": "code",
        "outputId": "31295080-b1a8-4d4e-df05-5bb0879b20ac",
        "colab": {
          "base_uri": "https://localhost:8080/",
          "height": 34
        }
      },
      "source": [
        "len(df.index)"
      ],
      "execution_count": 5,
      "outputs": [
        {
          "output_type": "execute_result",
          "data": {
            "text/plain": [
              "1458644"
            ]
          },
          "metadata": {
            "tags": []
          },
          "execution_count": 5
        }
      ]
    },
    {
      "cell_type": "code",
      "metadata": {
        "id": "bWZxFBhK9tTR",
        "colab_type": "code",
        "outputId": "04d5284f-61c7-4c19-9de8-3b2d9b08d3e1",
        "colab": {
          "base_uri": "https://localhost:8080/",
          "height": 34
        }
      },
      "source": [
        "np.random.seed(10)\n",
        "remove_n=10**6+(10**5)*4\n",
        "drop_indices=np.random.choice(df.index,remove_n,replace=False)\n",
        "df=df.drop(drop_indices)\n",
        "df.shape\n",
        "print(len(df.index))"
      ],
      "execution_count": 6,
      "outputs": [
        {
          "output_type": "stream",
          "text": [
            "58644\n"
          ],
          "name": "stdout"
        }
      ]
    },
    {
      "cell_type": "code",
      "metadata": {
        "id": "YjKoTzTdpe45",
        "colab_type": "code",
        "outputId": "d1e0d848-755e-4760-ff6f-c866fda8e49a",
        "colab": {
          "base_uri": "https://localhost:8080/",
          "height": 299
        }
      },
      "source": [
        "df.head()"
      ],
      "execution_count": 7,
      "outputs": [
        {
          "output_type": "execute_result",
          "data": {
            "text/html": [
              "<div>\n",
              "<style scoped>\n",
              "    .dataframe tbody tr th:only-of-type {\n",
              "        vertical-align: middle;\n",
              "    }\n",
              "\n",
              "    .dataframe tbody tr th {\n",
              "        vertical-align: top;\n",
              "    }\n",
              "\n",
              "    .dataframe thead th {\n",
              "        text-align: right;\n",
              "    }\n",
              "</style>\n",
              "<table border=\"1\" class=\"dataframe\">\n",
              "  <thead>\n",
              "    <tr style=\"text-align: right;\">\n",
              "      <th></th>\n",
              "      <th>id</th>\n",
              "      <th>vendor_id</th>\n",
              "      <th>pickup_datetime</th>\n",
              "      <th>dropoff_datetime</th>\n",
              "      <th>passenger_count</th>\n",
              "      <th>pickup_longitude</th>\n",
              "      <th>pickup_latitude</th>\n",
              "      <th>dropoff_longitude</th>\n",
              "      <th>dropoff_latitude</th>\n",
              "      <th>store_and_fwd_flag</th>\n",
              "      <th>trip_duration</th>\n",
              "    </tr>\n",
              "  </thead>\n",
              "  <tbody>\n",
              "    <tr>\n",
              "      <th>2</th>\n",
              "      <td>id3858529</td>\n",
              "      <td>2</td>\n",
              "      <td>2016-01-19 11:35:24</td>\n",
              "      <td>2016-01-19 12:10:48</td>\n",
              "      <td>1</td>\n",
              "      <td>-73.979027</td>\n",
              "      <td>40.763939</td>\n",
              "      <td>-74.005333</td>\n",
              "      <td>40.710087</td>\n",
              "      <td>N</td>\n",
              "      <td>2124</td>\n",
              "    </tr>\n",
              "    <tr>\n",
              "      <th>15</th>\n",
              "      <td>id3319787</td>\n",
              "      <td>1</td>\n",
              "      <td>2016-05-16 15:29:02</td>\n",
              "      <td>2016-05-16 15:32:33</td>\n",
              "      <td>1</td>\n",
              "      <td>-73.955513</td>\n",
              "      <td>40.768593</td>\n",
              "      <td>-73.948761</td>\n",
              "      <td>40.771545</td>\n",
              "      <td>N</td>\n",
              "      <td>211</td>\n",
              "    </tr>\n",
              "    <tr>\n",
              "      <th>24</th>\n",
              "      <td>id3321406</td>\n",
              "      <td>2</td>\n",
              "      <td>2016-06-03 08:15:05</td>\n",
              "      <td>2016-06-03 08:56:30</td>\n",
              "      <td>1</td>\n",
              "      <td>-73.955231</td>\n",
              "      <td>40.777134</td>\n",
              "      <td>-73.788750</td>\n",
              "      <td>40.641472</td>\n",
              "      <td>N</td>\n",
              "      <td>2485</td>\n",
              "    </tr>\n",
              "    <tr>\n",
              "      <th>106</th>\n",
              "      <td>id3277902</td>\n",
              "      <td>1</td>\n",
              "      <td>2016-04-09 15:04:31</td>\n",
              "      <td>2016-04-09 15:11:30</td>\n",
              "      <td>1</td>\n",
              "      <td>-73.973167</td>\n",
              "      <td>40.755699</td>\n",
              "      <td>-73.988655</td>\n",
              "      <td>40.736996</td>\n",
              "      <td>N</td>\n",
              "      <td>419</td>\n",
              "    </tr>\n",
              "    <tr>\n",
              "      <th>144</th>\n",
              "      <td>id0561467</td>\n",
              "      <td>1</td>\n",
              "      <td>2016-02-09 06:58:53</td>\n",
              "      <td>2016-02-09 07:12:28</td>\n",
              "      <td>1</td>\n",
              "      <td>-73.972549</td>\n",
              "      <td>40.794018</td>\n",
              "      <td>-73.954056</td>\n",
              "      <td>40.766300</td>\n",
              "      <td>N</td>\n",
              "      <td>815</td>\n",
              "    </tr>\n",
              "  </tbody>\n",
              "</table>\n",
              "</div>"
            ],
            "text/plain": [
              "            id  vendor_id  ... store_and_fwd_flag trip_duration\n",
              "2    id3858529          2  ...                  N          2124\n",
              "15   id3319787          1  ...                  N           211\n",
              "24   id3321406          2  ...                  N          2485\n",
              "106  id3277902          1  ...                  N           419\n",
              "144  id0561467          1  ...                  N           815\n",
              "\n",
              "[5 rows x 11 columns]"
            ]
          },
          "metadata": {
            "tags": []
          },
          "execution_count": 7
        }
      ]
    },
    {
      "cell_type": "code",
      "metadata": {
        "id": "a2HEUwST-J3q",
        "colab_type": "code",
        "outputId": "ec402faf-8dcc-49b3-b154-d440ccbff9e2",
        "colab": {
          "base_uri": "https://localhost:8080/",
          "height": 34
        }
      },
      "source": [
        "set(df['passenger_count'])"
      ],
      "execution_count": 8,
      "outputs": [
        {
          "output_type": "execute_result",
          "data": {
            "text/plain": [
              "{0, 1, 2, 3, 4, 5, 6}"
            ]
          },
          "metadata": {
            "tags": []
          },
          "execution_count": 8
        }
      ]
    },
    {
      "cell_type": "code",
      "metadata": {
        "id": "iIhEhPjZ-J6-",
        "colab_type": "code",
        "colab": {}
      },
      "source": [
        "df_train=df.iloc[:,2:]"
      ],
      "execution_count": 0,
      "outputs": []
    },
    {
      "cell_type": "code",
      "metadata": {
        "id": "2Ps3XC5gDvc1",
        "colab_type": "code",
        "outputId": "be583e26-8de2-42cc-cb76-2aac1deb8165",
        "colab": {
          "base_uri": "https://localhost:8080/",
          "height": 299
        }
      },
      "source": [
        "df_train.head()"
      ],
      "execution_count": 10,
      "outputs": [
        {
          "output_type": "execute_result",
          "data": {
            "text/html": [
              "<div>\n",
              "<style scoped>\n",
              "    .dataframe tbody tr th:only-of-type {\n",
              "        vertical-align: middle;\n",
              "    }\n",
              "\n",
              "    .dataframe tbody tr th {\n",
              "        vertical-align: top;\n",
              "    }\n",
              "\n",
              "    .dataframe thead th {\n",
              "        text-align: right;\n",
              "    }\n",
              "</style>\n",
              "<table border=\"1\" class=\"dataframe\">\n",
              "  <thead>\n",
              "    <tr style=\"text-align: right;\">\n",
              "      <th></th>\n",
              "      <th>pickup_datetime</th>\n",
              "      <th>dropoff_datetime</th>\n",
              "      <th>passenger_count</th>\n",
              "      <th>pickup_longitude</th>\n",
              "      <th>pickup_latitude</th>\n",
              "      <th>dropoff_longitude</th>\n",
              "      <th>dropoff_latitude</th>\n",
              "      <th>store_and_fwd_flag</th>\n",
              "      <th>trip_duration</th>\n",
              "    </tr>\n",
              "  </thead>\n",
              "  <tbody>\n",
              "    <tr>\n",
              "      <th>2</th>\n",
              "      <td>2016-01-19 11:35:24</td>\n",
              "      <td>2016-01-19 12:10:48</td>\n",
              "      <td>1</td>\n",
              "      <td>-73.979027</td>\n",
              "      <td>40.763939</td>\n",
              "      <td>-74.005333</td>\n",
              "      <td>40.710087</td>\n",
              "      <td>N</td>\n",
              "      <td>2124</td>\n",
              "    </tr>\n",
              "    <tr>\n",
              "      <th>15</th>\n",
              "      <td>2016-05-16 15:29:02</td>\n",
              "      <td>2016-05-16 15:32:33</td>\n",
              "      <td>1</td>\n",
              "      <td>-73.955513</td>\n",
              "      <td>40.768593</td>\n",
              "      <td>-73.948761</td>\n",
              "      <td>40.771545</td>\n",
              "      <td>N</td>\n",
              "      <td>211</td>\n",
              "    </tr>\n",
              "    <tr>\n",
              "      <th>24</th>\n",
              "      <td>2016-06-03 08:15:05</td>\n",
              "      <td>2016-06-03 08:56:30</td>\n",
              "      <td>1</td>\n",
              "      <td>-73.955231</td>\n",
              "      <td>40.777134</td>\n",
              "      <td>-73.788750</td>\n",
              "      <td>40.641472</td>\n",
              "      <td>N</td>\n",
              "      <td>2485</td>\n",
              "    </tr>\n",
              "    <tr>\n",
              "      <th>106</th>\n",
              "      <td>2016-04-09 15:04:31</td>\n",
              "      <td>2016-04-09 15:11:30</td>\n",
              "      <td>1</td>\n",
              "      <td>-73.973167</td>\n",
              "      <td>40.755699</td>\n",
              "      <td>-73.988655</td>\n",
              "      <td>40.736996</td>\n",
              "      <td>N</td>\n",
              "      <td>419</td>\n",
              "    </tr>\n",
              "    <tr>\n",
              "      <th>144</th>\n",
              "      <td>2016-02-09 06:58:53</td>\n",
              "      <td>2016-02-09 07:12:28</td>\n",
              "      <td>1</td>\n",
              "      <td>-73.972549</td>\n",
              "      <td>40.794018</td>\n",
              "      <td>-73.954056</td>\n",
              "      <td>40.766300</td>\n",
              "      <td>N</td>\n",
              "      <td>815</td>\n",
              "    </tr>\n",
              "  </tbody>\n",
              "</table>\n",
              "</div>"
            ],
            "text/plain": [
              "         pickup_datetime     dropoff_datetime  ...  store_and_fwd_flag  trip_duration\n",
              "2    2016-01-19 11:35:24  2016-01-19 12:10:48  ...                   N           2124\n",
              "15   2016-05-16 15:29:02  2016-05-16 15:32:33  ...                   N            211\n",
              "24   2016-06-03 08:15:05  2016-06-03 08:56:30  ...                   N           2485\n",
              "106  2016-04-09 15:04:31  2016-04-09 15:11:30  ...                   N            419\n",
              "144  2016-02-09 06:58:53  2016-02-09 07:12:28  ...                   N            815\n",
              "\n",
              "[5 rows x 9 columns]"
            ]
          },
          "metadata": {
            "tags": []
          },
          "execution_count": 10
        }
      ]
    },
    {
      "cell_type": "code",
      "metadata": {
        "id": "_Kgo9yTgGoh7",
        "colab_type": "code",
        "colab": {}
      },
      "source": [
        "df_train=df_train.reset_index(drop=True)"
      ],
      "execution_count": 0,
      "outputs": []
    },
    {
      "cell_type": "code",
      "metadata": {
        "id": "aiRnSLMsGol_",
        "colab_type": "code",
        "outputId": "bb92ce8e-fd10-42b0-86d9-a95a678ce62a",
        "colab": {
          "base_uri": "https://localhost:8080/",
          "height": 218
        }
      },
      "source": [
        "df_train['pickup_datetime']"
      ],
      "execution_count": 13,
      "outputs": [
        {
          "output_type": "execute_result",
          "data": {
            "text/plain": [
              "0        2016-01-19 11:35:24\n",
              "1        2016-05-16 15:29:02\n",
              "2        2016-06-03 08:15:05\n",
              "3        2016-04-09 15:04:31\n",
              "4        2016-02-09 06:58:53\n",
              "                ...         \n",
              "58639    2016-06-25 00:16:02\n",
              "58640    2016-01-08 12:08:07\n",
              "58641    2016-05-18 21:39:28\n",
              "58642    2016-02-16 19:37:38\n",
              "58643    2016-01-18 20:35:30\n",
              "Name: pickup_datetime, Length: 58644, dtype: object"
            ]
          },
          "metadata": {
            "tags": []
          },
          "execution_count": 13
        }
      ]
    },
    {
      "cell_type": "code",
      "metadata": {
        "id": "7AynVl83Md2_",
        "colab_type": "code",
        "colab": {}
      },
      "source": [
        "for index,row in df_train.iterrows():\n",
        "  val1=row['pickup_datetime'] # string\n",
        "  #val2=row['dropoff_datetime'] string\n",
        "  val3=val1[0:11]  #slicing\n",
        "  val1=val1[11:] #slicing\n",
        "  #val2=val2[11:] slicing\n",
        "  df_train.loc[index,'Day']=val3\n",
        "  df_train.loc[index,'pickup_time']=val1\n",
        "  #df_train.loc[index,'dropoff_time']=val2\n",
        "print(val3)\n",
        "print(val1)\n",
        "  \n",
        " "
      ],
      "execution_count": 0,
      "outputs": []
    },
    {
      "cell_type": "code",
      "metadata": {
        "id": "6y58Tz9_NNWD",
        "colab_type": "code",
        "outputId": "b050be03-4409-4594-a670-a82e0e9762b2",
        "colab": {
          "base_uri": "https://localhost:8080/",
          "height": 299
        }
      },
      "source": [
        "df_train.head()"
      ],
      "execution_count": 15,
      "outputs": [
        {
          "output_type": "execute_result",
          "data": {
            "text/html": [
              "<div>\n",
              "<style scoped>\n",
              "    .dataframe tbody tr th:only-of-type {\n",
              "        vertical-align: middle;\n",
              "    }\n",
              "\n",
              "    .dataframe tbody tr th {\n",
              "        vertical-align: top;\n",
              "    }\n",
              "\n",
              "    .dataframe thead th {\n",
              "        text-align: right;\n",
              "    }\n",
              "</style>\n",
              "<table border=\"1\" class=\"dataframe\">\n",
              "  <thead>\n",
              "    <tr style=\"text-align: right;\">\n",
              "      <th></th>\n",
              "      <th>pickup_datetime</th>\n",
              "      <th>dropoff_datetime</th>\n",
              "      <th>passenger_count</th>\n",
              "      <th>pickup_longitude</th>\n",
              "      <th>pickup_latitude</th>\n",
              "      <th>dropoff_longitude</th>\n",
              "      <th>dropoff_latitude</th>\n",
              "      <th>store_and_fwd_flag</th>\n",
              "      <th>trip_duration</th>\n",
              "      <th>Day</th>\n",
              "      <th>pickup_time</th>\n",
              "    </tr>\n",
              "  </thead>\n",
              "  <tbody>\n",
              "    <tr>\n",
              "      <th>0</th>\n",
              "      <td>2016-01-19 11:35:24</td>\n",
              "      <td>2016-01-19 12:10:48</td>\n",
              "      <td>1</td>\n",
              "      <td>-73.979027</td>\n",
              "      <td>40.763939</td>\n",
              "      <td>-74.005333</td>\n",
              "      <td>40.710087</td>\n",
              "      <td>N</td>\n",
              "      <td>2124</td>\n",
              "      <td>2016-01-19</td>\n",
              "      <td>11:35:24</td>\n",
              "    </tr>\n",
              "    <tr>\n",
              "      <th>1</th>\n",
              "      <td>2016-05-16 15:29:02</td>\n",
              "      <td>2016-05-16 15:32:33</td>\n",
              "      <td>1</td>\n",
              "      <td>-73.955513</td>\n",
              "      <td>40.768593</td>\n",
              "      <td>-73.948761</td>\n",
              "      <td>40.771545</td>\n",
              "      <td>N</td>\n",
              "      <td>211</td>\n",
              "      <td>2016-05-16</td>\n",
              "      <td>15:29:02</td>\n",
              "    </tr>\n",
              "    <tr>\n",
              "      <th>2</th>\n",
              "      <td>2016-06-03 08:15:05</td>\n",
              "      <td>2016-06-03 08:56:30</td>\n",
              "      <td>1</td>\n",
              "      <td>-73.955231</td>\n",
              "      <td>40.777134</td>\n",
              "      <td>-73.788750</td>\n",
              "      <td>40.641472</td>\n",
              "      <td>N</td>\n",
              "      <td>2485</td>\n",
              "      <td>2016-06-03</td>\n",
              "      <td>08:15:05</td>\n",
              "    </tr>\n",
              "    <tr>\n",
              "      <th>3</th>\n",
              "      <td>2016-04-09 15:04:31</td>\n",
              "      <td>2016-04-09 15:11:30</td>\n",
              "      <td>1</td>\n",
              "      <td>-73.973167</td>\n",
              "      <td>40.755699</td>\n",
              "      <td>-73.988655</td>\n",
              "      <td>40.736996</td>\n",
              "      <td>N</td>\n",
              "      <td>419</td>\n",
              "      <td>2016-04-09</td>\n",
              "      <td>15:04:31</td>\n",
              "    </tr>\n",
              "    <tr>\n",
              "      <th>4</th>\n",
              "      <td>2016-02-09 06:58:53</td>\n",
              "      <td>2016-02-09 07:12:28</td>\n",
              "      <td>1</td>\n",
              "      <td>-73.972549</td>\n",
              "      <td>40.794018</td>\n",
              "      <td>-73.954056</td>\n",
              "      <td>40.766300</td>\n",
              "      <td>N</td>\n",
              "      <td>815</td>\n",
              "      <td>2016-02-09</td>\n",
              "      <td>06:58:53</td>\n",
              "    </tr>\n",
              "  </tbody>\n",
              "</table>\n",
              "</div>"
            ],
            "text/plain": [
              "       pickup_datetime     dropoff_datetime  ...          Day  pickup_time\n",
              "0  2016-01-19 11:35:24  2016-01-19 12:10:48  ...  2016-01-19      11:35:24\n",
              "1  2016-05-16 15:29:02  2016-05-16 15:32:33  ...  2016-05-16      15:29:02\n",
              "2  2016-06-03 08:15:05  2016-06-03 08:56:30  ...  2016-06-03      08:15:05\n",
              "3  2016-04-09 15:04:31  2016-04-09 15:11:30  ...  2016-04-09      15:04:31\n",
              "4  2016-02-09 06:58:53  2016-02-09 07:12:28  ...  2016-02-09      06:58:53\n",
              "\n",
              "[5 rows x 11 columns]"
            ]
          },
          "metadata": {
            "tags": []
          },
          "execution_count": 15
        }
      ]
    },
    {
      "cell_type": "code",
      "metadata": {
        "id": "ULYm036dNNZW",
        "colab_type": "code",
        "outputId": "b0ab69e4-81bd-4ffd-9623-9b69f598166b",
        "colab": {
          "base_uri": "https://localhost:8080/",
          "height": 402
        }
      },
      "source": [
        "#y_train=df_train.loc['trip_duration']\n",
        "x_train=df_train.drop(['pickup_datetime','dropoff_datetime','trip_duration'],axis=1)\n",
        "x_train"
      ],
      "execution_count": 16,
      "outputs": [
        {
          "output_type": "execute_result",
          "data": {
            "text/html": [
              "<div>\n",
              "<style scoped>\n",
              "    .dataframe tbody tr th:only-of-type {\n",
              "        vertical-align: middle;\n",
              "    }\n",
              "\n",
              "    .dataframe tbody tr th {\n",
              "        vertical-align: top;\n",
              "    }\n",
              "\n",
              "    .dataframe thead th {\n",
              "        text-align: right;\n",
              "    }\n",
              "</style>\n",
              "<table border=\"1\" class=\"dataframe\">\n",
              "  <thead>\n",
              "    <tr style=\"text-align: right;\">\n",
              "      <th></th>\n",
              "      <th>passenger_count</th>\n",
              "      <th>pickup_longitude</th>\n",
              "      <th>pickup_latitude</th>\n",
              "      <th>dropoff_longitude</th>\n",
              "      <th>dropoff_latitude</th>\n",
              "      <th>store_and_fwd_flag</th>\n",
              "      <th>Day</th>\n",
              "      <th>pickup_time</th>\n",
              "    </tr>\n",
              "  </thead>\n",
              "  <tbody>\n",
              "    <tr>\n",
              "      <th>0</th>\n",
              "      <td>1</td>\n",
              "      <td>-73.979027</td>\n",
              "      <td>40.763939</td>\n",
              "      <td>-74.005333</td>\n",
              "      <td>40.710087</td>\n",
              "      <td>N</td>\n",
              "      <td>2016-01-19</td>\n",
              "      <td>11:35:24</td>\n",
              "    </tr>\n",
              "    <tr>\n",
              "      <th>1</th>\n",
              "      <td>1</td>\n",
              "      <td>-73.955513</td>\n",
              "      <td>40.768593</td>\n",
              "      <td>-73.948761</td>\n",
              "      <td>40.771545</td>\n",
              "      <td>N</td>\n",
              "      <td>2016-05-16</td>\n",
              "      <td>15:29:02</td>\n",
              "    </tr>\n",
              "    <tr>\n",
              "      <th>2</th>\n",
              "      <td>1</td>\n",
              "      <td>-73.955231</td>\n",
              "      <td>40.777134</td>\n",
              "      <td>-73.788750</td>\n",
              "      <td>40.641472</td>\n",
              "      <td>N</td>\n",
              "      <td>2016-06-03</td>\n",
              "      <td>08:15:05</td>\n",
              "    </tr>\n",
              "    <tr>\n",
              "      <th>3</th>\n",
              "      <td>1</td>\n",
              "      <td>-73.973167</td>\n",
              "      <td>40.755699</td>\n",
              "      <td>-73.988655</td>\n",
              "      <td>40.736996</td>\n",
              "      <td>N</td>\n",
              "      <td>2016-04-09</td>\n",
              "      <td>15:04:31</td>\n",
              "    </tr>\n",
              "    <tr>\n",
              "      <th>4</th>\n",
              "      <td>1</td>\n",
              "      <td>-73.972549</td>\n",
              "      <td>40.794018</td>\n",
              "      <td>-73.954056</td>\n",
              "      <td>40.766300</td>\n",
              "      <td>N</td>\n",
              "      <td>2016-02-09</td>\n",
              "      <td>06:58:53</td>\n",
              "    </tr>\n",
              "    <tr>\n",
              "      <th>...</th>\n",
              "      <td>...</td>\n",
              "      <td>...</td>\n",
              "      <td>...</td>\n",
              "      <td>...</td>\n",
              "      <td>...</td>\n",
              "      <td>...</td>\n",
              "      <td>...</td>\n",
              "      <td>...</td>\n",
              "    </tr>\n",
              "    <tr>\n",
              "      <th>58639</th>\n",
              "      <td>1</td>\n",
              "      <td>-73.999916</td>\n",
              "      <td>40.734715</td>\n",
              "      <td>-73.987579</td>\n",
              "      <td>40.721313</td>\n",
              "      <td>N</td>\n",
              "      <td>2016-06-25</td>\n",
              "      <td>00:16:02</td>\n",
              "    </tr>\n",
              "    <tr>\n",
              "      <th>58640</th>\n",
              "      <td>1</td>\n",
              "      <td>-73.977867</td>\n",
              "      <td>40.754704</td>\n",
              "      <td>-73.982010</td>\n",
              "      <td>40.770699</td>\n",
              "      <td>N</td>\n",
              "      <td>2016-01-08</td>\n",
              "      <td>12:08:07</td>\n",
              "    </tr>\n",
              "    <tr>\n",
              "      <th>58641</th>\n",
              "      <td>1</td>\n",
              "      <td>-73.967331</td>\n",
              "      <td>40.788151</td>\n",
              "      <td>-73.963692</td>\n",
              "      <td>40.768349</td>\n",
              "      <td>N</td>\n",
              "      <td>2016-05-18</td>\n",
              "      <td>21:39:28</td>\n",
              "    </tr>\n",
              "    <tr>\n",
              "      <th>58642</th>\n",
              "      <td>1</td>\n",
              "      <td>-73.992653</td>\n",
              "      <td>40.753368</td>\n",
              "      <td>-73.971069</td>\n",
              "      <td>40.756809</td>\n",
              "      <td>N</td>\n",
              "      <td>2016-02-16</td>\n",
              "      <td>19:37:38</td>\n",
              "    </tr>\n",
              "    <tr>\n",
              "      <th>58643</th>\n",
              "      <td>1</td>\n",
              "      <td>-73.991081</td>\n",
              "      <td>40.737408</td>\n",
              "      <td>-73.987671</td>\n",
              "      <td>40.722622</td>\n",
              "      <td>N</td>\n",
              "      <td>2016-01-18</td>\n",
              "      <td>20:35:30</td>\n",
              "    </tr>\n",
              "  </tbody>\n",
              "</table>\n",
              "<p>58644 rows × 8 columns</p>\n",
              "</div>"
            ],
            "text/plain": [
              "       passenger_count  pickup_longitude  ...          Day  pickup_time\n",
              "0                    1        -73.979027  ...  2016-01-19      11:35:24\n",
              "1                    1        -73.955513  ...  2016-05-16      15:29:02\n",
              "2                    1        -73.955231  ...  2016-06-03      08:15:05\n",
              "3                    1        -73.973167  ...  2016-04-09      15:04:31\n",
              "4                    1        -73.972549  ...  2016-02-09      06:58:53\n",
              "...                ...               ...  ...          ...          ...\n",
              "58639                1        -73.999916  ...  2016-06-25      00:16:02\n",
              "58640                1        -73.977867  ...  2016-01-08      12:08:07\n",
              "58641                1        -73.967331  ...  2016-05-18      21:39:28\n",
              "58642                1        -73.992653  ...  2016-02-16      19:37:38\n",
              "58643                1        -73.991081  ...  2016-01-18      20:35:30\n",
              "\n",
              "[58644 rows x 8 columns]"
            ]
          },
          "metadata": {
            "tags": []
          },
          "execution_count": 16
        }
      ]
    },
    {
      "cell_type": "code",
      "metadata": {
        "id": "ysXUS83jMd6i",
        "colab_type": "code",
        "outputId": "97bfe78a-e266-46af-b1c7-a4c07d07f37e",
        "colab": {
          "base_uri": "https://localhost:8080/",
          "height": 218
        }
      },
      "source": [
        "y_train=df_train['trip_duration']\n",
        "y_train"
      ],
      "execution_count": 17,
      "outputs": [
        {
          "output_type": "execute_result",
          "data": {
            "text/plain": [
              "0        2124\n",
              "1         211\n",
              "2        2485\n",
              "3         419\n",
              "4         815\n",
              "         ... \n",
              "58639     861\n",
              "58640     587\n",
              "58641     529\n",
              "58642     838\n",
              "58643     554\n",
              "Name: trip_duration, Length: 58644, dtype: int64"
            ]
          },
          "metadata": {
            "tags": []
          },
          "execution_count": 17
        }
      ]
    },
    {
      "cell_type": "code",
      "metadata": {
        "id": "D-9pabND3Bor",
        "colab_type": "code",
        "colab": {}
      },
      "source": [
        "x_train['Date']=x_train['Day']"
      ],
      "execution_count": 0,
      "outputs": []
    },
    {
      "cell_type": "code",
      "metadata": {
        "id": "T2T8R2zBI2cp",
        "colab_type": "code",
        "outputId": "2ceeaefb-9cac-4f05-da2f-8c3182807e1a",
        "colab": {
          "base_uri": "https://localhost:8080/",
          "height": 101
        }
      },
      "source": [
        "find_day=x_train['Day']\n",
        "for i in range(len(x_train.index)):\n",
        "  find_day[i]=find_day[i].replace(\"-\",\" \")\n",
        "x_train.loc['Day']=find_day"
      ],
      "execution_count": 20,
      "outputs": [
        {
          "output_type": "stream",
          "text": [
            "/usr/local/lib/python3.6/dist-packages/ipykernel_launcher.py:3: SettingWithCopyWarning: \n",
            "A value is trying to be set on a copy of a slice from a DataFrame\n",
            "\n",
            "See the caveats in the documentation: https://pandas.pydata.org/pandas-docs/stable/user_guide/indexing.html#returning-a-view-versus-a-copy\n",
            "  This is separate from the ipykernel package so we can avoid doing imports until\n"
          ],
          "name": "stderr"
        }
      ]
    },
    {
      "cell_type": "code",
      "metadata": {
        "id": "ucvenAgWI2J1",
        "colab_type": "code",
        "outputId": "d88743f2-6ae3-4524-d208-87058efe4e63",
        "colab": {
          "base_uri": "https://localhost:8080/",
          "height": 553
        }
      },
      "source": [
        "#x_train=x_train.iloc[:-1,:]\n",
        "x_train"
      ],
      "execution_count": 21,
      "outputs": [
        {
          "output_type": "execute_result",
          "data": {
            "text/html": [
              "<div>\n",
              "<style scoped>\n",
              "    .dataframe tbody tr th:only-of-type {\n",
              "        vertical-align: middle;\n",
              "    }\n",
              "\n",
              "    .dataframe tbody tr th {\n",
              "        vertical-align: top;\n",
              "    }\n",
              "\n",
              "    .dataframe thead th {\n",
              "        text-align: right;\n",
              "    }\n",
              "</style>\n",
              "<table border=\"1\" class=\"dataframe\">\n",
              "  <thead>\n",
              "    <tr style=\"text-align: right;\">\n",
              "      <th></th>\n",
              "      <th>passenger_count</th>\n",
              "      <th>pickup_longitude</th>\n",
              "      <th>pickup_latitude</th>\n",
              "      <th>dropoff_longitude</th>\n",
              "      <th>dropoff_latitude</th>\n",
              "      <th>store_and_fwd_flag</th>\n",
              "      <th>Day</th>\n",
              "      <th>pickup_time</th>\n",
              "      <th>Date</th>\n",
              "    </tr>\n",
              "  </thead>\n",
              "  <tbody>\n",
              "    <tr>\n",
              "      <th>0</th>\n",
              "      <td>1.0</td>\n",
              "      <td>-73.979027</td>\n",
              "      <td>40.763939</td>\n",
              "      <td>-74.005333</td>\n",
              "      <td>40.710087</td>\n",
              "      <td>N</td>\n",
              "      <td>2016 01 19</td>\n",
              "      <td>11:35:24</td>\n",
              "      <td>2016-01-19</td>\n",
              "    </tr>\n",
              "    <tr>\n",
              "      <th>1</th>\n",
              "      <td>1.0</td>\n",
              "      <td>-73.955513</td>\n",
              "      <td>40.768593</td>\n",
              "      <td>-73.948761</td>\n",
              "      <td>40.771545</td>\n",
              "      <td>N</td>\n",
              "      <td>2016 05 16</td>\n",
              "      <td>15:29:02</td>\n",
              "      <td>2016-05-16</td>\n",
              "    </tr>\n",
              "    <tr>\n",
              "      <th>2</th>\n",
              "      <td>1.0</td>\n",
              "      <td>-73.955231</td>\n",
              "      <td>40.777134</td>\n",
              "      <td>-73.788750</td>\n",
              "      <td>40.641472</td>\n",
              "      <td>N</td>\n",
              "      <td>2016 06 03</td>\n",
              "      <td>08:15:05</td>\n",
              "      <td>2016-06-03</td>\n",
              "    </tr>\n",
              "    <tr>\n",
              "      <th>3</th>\n",
              "      <td>1.0</td>\n",
              "      <td>-73.973167</td>\n",
              "      <td>40.755699</td>\n",
              "      <td>-73.988655</td>\n",
              "      <td>40.736996</td>\n",
              "      <td>N</td>\n",
              "      <td>2016 04 09</td>\n",
              "      <td>15:04:31</td>\n",
              "      <td>2016-04-09</td>\n",
              "    </tr>\n",
              "    <tr>\n",
              "      <th>4</th>\n",
              "      <td>1.0</td>\n",
              "      <td>-73.972549</td>\n",
              "      <td>40.794018</td>\n",
              "      <td>-73.954056</td>\n",
              "      <td>40.766300</td>\n",
              "      <td>N</td>\n",
              "      <td>2016 02 09</td>\n",
              "      <td>06:58:53</td>\n",
              "      <td>2016-02-09</td>\n",
              "    </tr>\n",
              "    <tr>\n",
              "      <th>...</th>\n",
              "      <td>...</td>\n",
              "      <td>...</td>\n",
              "      <td>...</td>\n",
              "      <td>...</td>\n",
              "      <td>...</td>\n",
              "      <td>...</td>\n",
              "      <td>...</td>\n",
              "      <td>...</td>\n",
              "      <td>...</td>\n",
              "    </tr>\n",
              "    <tr>\n",
              "      <th>58640</th>\n",
              "      <td>1.0</td>\n",
              "      <td>-73.977867</td>\n",
              "      <td>40.754704</td>\n",
              "      <td>-73.982010</td>\n",
              "      <td>40.770699</td>\n",
              "      <td>N</td>\n",
              "      <td>2016 01 08</td>\n",
              "      <td>12:08:07</td>\n",
              "      <td>2016-01-08</td>\n",
              "    </tr>\n",
              "    <tr>\n",
              "      <th>58641</th>\n",
              "      <td>1.0</td>\n",
              "      <td>-73.967331</td>\n",
              "      <td>40.788151</td>\n",
              "      <td>-73.963692</td>\n",
              "      <td>40.768349</td>\n",
              "      <td>N</td>\n",
              "      <td>2016 05 18</td>\n",
              "      <td>21:39:28</td>\n",
              "      <td>2016-05-18</td>\n",
              "    </tr>\n",
              "    <tr>\n",
              "      <th>58642</th>\n",
              "      <td>1.0</td>\n",
              "      <td>-73.992653</td>\n",
              "      <td>40.753368</td>\n",
              "      <td>-73.971069</td>\n",
              "      <td>40.756809</td>\n",
              "      <td>N</td>\n",
              "      <td>2016 02 16</td>\n",
              "      <td>19:37:38</td>\n",
              "      <td>2016-02-16</td>\n",
              "    </tr>\n",
              "    <tr>\n",
              "      <th>58643</th>\n",
              "      <td>1.0</td>\n",
              "      <td>-73.991081</td>\n",
              "      <td>40.737408</td>\n",
              "      <td>-73.987671</td>\n",
              "      <td>40.722622</td>\n",
              "      <td>N</td>\n",
              "      <td>2016 01 18</td>\n",
              "      <td>20:35:30</td>\n",
              "      <td>2016-01-18</td>\n",
              "    </tr>\n",
              "    <tr>\n",
              "      <th>Day</th>\n",
              "      <td>NaN</td>\n",
              "      <td>NaN</td>\n",
              "      <td>NaN</td>\n",
              "      <td>NaN</td>\n",
              "      <td>NaN</td>\n",
              "      <td>NaN</td>\n",
              "      <td>NaN</td>\n",
              "      <td>NaN</td>\n",
              "      <td>NaN</td>\n",
              "    </tr>\n",
              "  </tbody>\n",
              "</table>\n",
              "<p>58645 rows × 9 columns</p>\n",
              "</div>"
            ],
            "text/plain": [
              "       passenger_count  pickup_longitude  ...  pickup_time         Date\n",
              "0                  1.0        -73.979027  ...     11:35:24  2016-01-19 \n",
              "1                  1.0        -73.955513  ...     15:29:02  2016-05-16 \n",
              "2                  1.0        -73.955231  ...     08:15:05  2016-06-03 \n",
              "3                  1.0        -73.973167  ...     15:04:31  2016-04-09 \n",
              "4                  1.0        -73.972549  ...     06:58:53  2016-02-09 \n",
              "...                ...               ...  ...          ...          ...\n",
              "58640              1.0        -73.977867  ...     12:08:07  2016-01-08 \n",
              "58641              1.0        -73.967331  ...     21:39:28  2016-05-18 \n",
              "58642              1.0        -73.992653  ...     19:37:38  2016-02-16 \n",
              "58643              1.0        -73.991081  ...     20:35:30  2016-01-18 \n",
              "Day                NaN               NaN  ...          NaN          NaN\n",
              "\n",
              "[58645 rows x 9 columns]"
            ]
          },
          "metadata": {
            "tags": []
          },
          "execution_count": 21
        }
      ]
    },
    {
      "cell_type": "code",
      "metadata": {
        "id": "C0ou5q3GHuZB",
        "colab_type": "code",
        "colab": {}
      },
      "source": [
        "x_train=x_train.iloc[:-1,:]"
      ],
      "execution_count": 0,
      "outputs": []
    },
    {
      "cell_type": "code",
      "metadata": {
        "id": "MgVh6jnC3BdT",
        "colab_type": "code",
        "colab": {
          "base_uri": "https://localhost:8080/",
          "height": 185
        },
        "outputId": "8cece8b2-06e2-4f78-8760-4db4235c8a43"
      },
      "source": [
        "#here the date is of the format yyyy mm dd\n",
        "import datetime\n",
        "date_to_day=x_train['Day'] \n",
        "#print(date_to_day[0])\n",
        "#print(len(date_to_day[2]))\n",
        "for i in range(len(x_train.index)):\n",
        "  date=date_to_day[i]\n",
        "  date=date[:-1]\n",
        "  day_name= ['Monday', 'Tuesday', 'Wednesday', 'Thursday', 'Friday', 'Saturday','Sunday']\n",
        "  day = datetime.datetime.strptime(date, '%Y %m %d').weekday() \n",
        "  date_to_day[i]=day_name[day]\n",
        "#print(day_name[day]) \n",
        "x_train.loc['Day']=date_to_day"
      ],
      "execution_count": 23,
      "outputs": [
        {
          "output_type": "stream",
          "text": [
            "/usr/local/lib/python3.6/dist-packages/ipykernel_launcher.py:10: SettingWithCopyWarning: \n",
            "A value is trying to be set on a copy of a slice from a DataFrame\n",
            "\n",
            "See the caveats in the documentation: https://pandas.pydata.org/pandas-docs/stable/user_guide/indexing.html#returning-a-view-versus-a-copy\n",
            "  # Remove the CWD from sys.path while we load stuff.\n",
            "/usr/local/lib/python3.6/dist-packages/IPython/core/interactiveshell.py:2882: SettingWithCopyWarning: \n",
            "A value is trying to be set on a copy of a slice from a DataFrame\n",
            "\n",
            "See the caveats in the documentation: https://pandas.pydata.org/pandas-docs/stable/user_guide/indexing.html#returning-a-view-versus-a-copy\n",
            "  exec(code_obj, self.user_global_ns, self.user_ns)\n"
          ],
          "name": "stderr"
        }
      ]
    },
    {
      "cell_type": "code",
      "metadata": {
        "id": "6_QRUcBc3BP7",
        "colab_type": "code",
        "colab": {}
      },
      "source": [
        "'''\n",
        "date=date_to_day[0]\n",
        "day_name= ['Monday', 'Tuesday', 'Wednesday', 'Thursday', 'Friday', 'Saturday','Sunday']\n",
        "day = datetime.datetime.strptime(date, '%Y %m %d').weekday() \n",
        "#date_to_day[i]=day_name[day]\n",
        "print(day_name[day])\n",
        "x_train.loc['Day']=date_to_day'''\n"
      ],
      "execution_count": 0,
      "outputs": []
    },
    {
      "cell_type": "code",
      "metadata": {
        "id": "RM0PHMKlHucT",
        "colab_type": "code",
        "outputId": "24fab375-f43e-483f-8865-e6ebc2dcc4fa",
        "colab": {
          "base_uri": "https://localhost:8080/",
          "height": 573
        }
      },
      "source": [
        "x_train"
      ],
      "execution_count": 24,
      "outputs": [
        {
          "output_type": "execute_result",
          "data": {
            "text/html": [
              "<div>\n",
              "<style scoped>\n",
              "    .dataframe tbody tr th:only-of-type {\n",
              "        vertical-align: middle;\n",
              "    }\n",
              "\n",
              "    .dataframe tbody tr th {\n",
              "        vertical-align: top;\n",
              "    }\n",
              "\n",
              "    .dataframe thead th {\n",
              "        text-align: right;\n",
              "    }\n",
              "</style>\n",
              "<table border=\"1\" class=\"dataframe\">\n",
              "  <thead>\n",
              "    <tr style=\"text-align: right;\">\n",
              "      <th></th>\n",
              "      <th>passenger_count</th>\n",
              "      <th>pickup_longitude</th>\n",
              "      <th>pickup_latitude</th>\n",
              "      <th>dropoff_longitude</th>\n",
              "      <th>dropoff_latitude</th>\n",
              "      <th>store_and_fwd_flag</th>\n",
              "      <th>Day</th>\n",
              "      <th>pickup_time</th>\n",
              "      <th>Date</th>\n",
              "    </tr>\n",
              "  </thead>\n",
              "  <tbody>\n",
              "    <tr>\n",
              "      <th>0</th>\n",
              "      <td>1.0</td>\n",
              "      <td>-73.979027</td>\n",
              "      <td>40.763939</td>\n",
              "      <td>-74.005333</td>\n",
              "      <td>40.710087</td>\n",
              "      <td>N</td>\n",
              "      <td>Tuesday</td>\n",
              "      <td>11:35:24</td>\n",
              "      <td>2016-01-19</td>\n",
              "    </tr>\n",
              "    <tr>\n",
              "      <th>1</th>\n",
              "      <td>1.0</td>\n",
              "      <td>-73.955513</td>\n",
              "      <td>40.768593</td>\n",
              "      <td>-73.948761</td>\n",
              "      <td>40.771545</td>\n",
              "      <td>N</td>\n",
              "      <td>Monday</td>\n",
              "      <td>15:29:02</td>\n",
              "      <td>2016-05-16</td>\n",
              "    </tr>\n",
              "    <tr>\n",
              "      <th>2</th>\n",
              "      <td>1.0</td>\n",
              "      <td>-73.955231</td>\n",
              "      <td>40.777134</td>\n",
              "      <td>-73.788750</td>\n",
              "      <td>40.641472</td>\n",
              "      <td>N</td>\n",
              "      <td>Friday</td>\n",
              "      <td>08:15:05</td>\n",
              "      <td>2016-06-03</td>\n",
              "    </tr>\n",
              "    <tr>\n",
              "      <th>3</th>\n",
              "      <td>1.0</td>\n",
              "      <td>-73.973167</td>\n",
              "      <td>40.755699</td>\n",
              "      <td>-73.988655</td>\n",
              "      <td>40.736996</td>\n",
              "      <td>N</td>\n",
              "      <td>Saturday</td>\n",
              "      <td>15:04:31</td>\n",
              "      <td>2016-04-09</td>\n",
              "    </tr>\n",
              "    <tr>\n",
              "      <th>4</th>\n",
              "      <td>1.0</td>\n",
              "      <td>-73.972549</td>\n",
              "      <td>40.794018</td>\n",
              "      <td>-73.954056</td>\n",
              "      <td>40.766300</td>\n",
              "      <td>N</td>\n",
              "      <td>Tuesday</td>\n",
              "      <td>06:58:53</td>\n",
              "      <td>2016-02-09</td>\n",
              "    </tr>\n",
              "    <tr>\n",
              "      <th>...</th>\n",
              "      <td>...</td>\n",
              "      <td>...</td>\n",
              "      <td>...</td>\n",
              "      <td>...</td>\n",
              "      <td>...</td>\n",
              "      <td>...</td>\n",
              "      <td>...</td>\n",
              "      <td>...</td>\n",
              "      <td>...</td>\n",
              "    </tr>\n",
              "    <tr>\n",
              "      <th>58640</th>\n",
              "      <td>1.0</td>\n",
              "      <td>-73.977867</td>\n",
              "      <td>40.754704</td>\n",
              "      <td>-73.982010</td>\n",
              "      <td>40.770699</td>\n",
              "      <td>N</td>\n",
              "      <td>Friday</td>\n",
              "      <td>12:08:07</td>\n",
              "      <td>2016-01-08</td>\n",
              "    </tr>\n",
              "    <tr>\n",
              "      <th>58641</th>\n",
              "      <td>1.0</td>\n",
              "      <td>-73.967331</td>\n",
              "      <td>40.788151</td>\n",
              "      <td>-73.963692</td>\n",
              "      <td>40.768349</td>\n",
              "      <td>N</td>\n",
              "      <td>Wednesday</td>\n",
              "      <td>21:39:28</td>\n",
              "      <td>2016-05-18</td>\n",
              "    </tr>\n",
              "    <tr>\n",
              "      <th>58642</th>\n",
              "      <td>1.0</td>\n",
              "      <td>-73.992653</td>\n",
              "      <td>40.753368</td>\n",
              "      <td>-73.971069</td>\n",
              "      <td>40.756809</td>\n",
              "      <td>N</td>\n",
              "      <td>Tuesday</td>\n",
              "      <td>19:37:38</td>\n",
              "      <td>2016-02-16</td>\n",
              "    </tr>\n",
              "    <tr>\n",
              "      <th>58643</th>\n",
              "      <td>1.0</td>\n",
              "      <td>-73.991081</td>\n",
              "      <td>40.737408</td>\n",
              "      <td>-73.987671</td>\n",
              "      <td>40.722622</td>\n",
              "      <td>N</td>\n",
              "      <td>Monday</td>\n",
              "      <td>20:35:30</td>\n",
              "      <td>2016-01-18</td>\n",
              "    </tr>\n",
              "    <tr>\n",
              "      <th>Day</th>\n",
              "      <td>NaN</td>\n",
              "      <td>NaN</td>\n",
              "      <td>NaN</td>\n",
              "      <td>NaN</td>\n",
              "      <td>NaN</td>\n",
              "      <td>NaN</td>\n",
              "      <td>NaN</td>\n",
              "      <td>NaN</td>\n",
              "      <td>NaN</td>\n",
              "    </tr>\n",
              "  </tbody>\n",
              "</table>\n",
              "<p>58645 rows × 9 columns</p>\n",
              "</div>"
            ],
            "text/plain": [
              "       passenger_count  pickup_longitude  ...  pickup_time         Date\n",
              "0                  1.0        -73.979027  ...     11:35:24  2016-01-19 \n",
              "1                  1.0        -73.955513  ...     15:29:02  2016-05-16 \n",
              "2                  1.0        -73.955231  ...     08:15:05  2016-06-03 \n",
              "3                  1.0        -73.973167  ...     15:04:31  2016-04-09 \n",
              "4                  1.0        -73.972549  ...     06:58:53  2016-02-09 \n",
              "...                ...               ...  ...          ...          ...\n",
              "58640              1.0        -73.977867  ...     12:08:07  2016-01-08 \n",
              "58641              1.0        -73.967331  ...     21:39:28  2016-05-18 \n",
              "58642              1.0        -73.992653  ...     19:37:38  2016-02-16 \n",
              "58643              1.0        -73.991081  ...     20:35:30  2016-01-18 \n",
              "Day                NaN               NaN  ...          NaN          NaN\n",
              "\n",
              "[58645 rows x 9 columns]"
            ]
          },
          "metadata": {
            "tags": []
          },
          "execution_count": 24
        }
      ]
    },
    {
      "cell_type": "code",
      "metadata": {
        "id": "ufXmfHsgMd0C",
        "colab_type": "code",
        "outputId": "50ffd6e8-442d-4677-cdf3-49eee3c0bfb6",
        "colab": {
          "base_uri": "https://localhost:8080/",
          "height": 590
        }
      },
      "source": [
        "x_train=x_train.iloc[:-1,:]\n",
        "x_train"
      ],
      "execution_count": 25,
      "outputs": [
        {
          "output_type": "execute_result",
          "data": {
            "text/html": [
              "<div>\n",
              "<style scoped>\n",
              "    .dataframe tbody tr th:only-of-type {\n",
              "        vertical-align: middle;\n",
              "    }\n",
              "\n",
              "    .dataframe tbody tr th {\n",
              "        vertical-align: top;\n",
              "    }\n",
              "\n",
              "    .dataframe thead th {\n",
              "        text-align: right;\n",
              "    }\n",
              "</style>\n",
              "<table border=\"1\" class=\"dataframe\">\n",
              "  <thead>\n",
              "    <tr style=\"text-align: right;\">\n",
              "      <th></th>\n",
              "      <th>passenger_count</th>\n",
              "      <th>pickup_longitude</th>\n",
              "      <th>pickup_latitude</th>\n",
              "      <th>dropoff_longitude</th>\n",
              "      <th>dropoff_latitude</th>\n",
              "      <th>store_and_fwd_flag</th>\n",
              "      <th>Day</th>\n",
              "      <th>pickup_time</th>\n",
              "      <th>Date</th>\n",
              "    </tr>\n",
              "  </thead>\n",
              "  <tbody>\n",
              "    <tr>\n",
              "      <th>0</th>\n",
              "      <td>1.0</td>\n",
              "      <td>-73.979027</td>\n",
              "      <td>40.763939</td>\n",
              "      <td>-74.005333</td>\n",
              "      <td>40.710087</td>\n",
              "      <td>N</td>\n",
              "      <td>Tuesday</td>\n",
              "      <td>11:35:24</td>\n",
              "      <td>2016-01-19</td>\n",
              "    </tr>\n",
              "    <tr>\n",
              "      <th>1</th>\n",
              "      <td>1.0</td>\n",
              "      <td>-73.955513</td>\n",
              "      <td>40.768593</td>\n",
              "      <td>-73.948761</td>\n",
              "      <td>40.771545</td>\n",
              "      <td>N</td>\n",
              "      <td>Monday</td>\n",
              "      <td>15:29:02</td>\n",
              "      <td>2016-05-16</td>\n",
              "    </tr>\n",
              "    <tr>\n",
              "      <th>2</th>\n",
              "      <td>1.0</td>\n",
              "      <td>-73.955231</td>\n",
              "      <td>40.777134</td>\n",
              "      <td>-73.788750</td>\n",
              "      <td>40.641472</td>\n",
              "      <td>N</td>\n",
              "      <td>Friday</td>\n",
              "      <td>08:15:05</td>\n",
              "      <td>2016-06-03</td>\n",
              "    </tr>\n",
              "    <tr>\n",
              "      <th>3</th>\n",
              "      <td>1.0</td>\n",
              "      <td>-73.973167</td>\n",
              "      <td>40.755699</td>\n",
              "      <td>-73.988655</td>\n",
              "      <td>40.736996</td>\n",
              "      <td>N</td>\n",
              "      <td>Saturday</td>\n",
              "      <td>15:04:31</td>\n",
              "      <td>2016-04-09</td>\n",
              "    </tr>\n",
              "    <tr>\n",
              "      <th>4</th>\n",
              "      <td>1.0</td>\n",
              "      <td>-73.972549</td>\n",
              "      <td>40.794018</td>\n",
              "      <td>-73.954056</td>\n",
              "      <td>40.766300</td>\n",
              "      <td>N</td>\n",
              "      <td>Tuesday</td>\n",
              "      <td>06:58:53</td>\n",
              "      <td>2016-02-09</td>\n",
              "    </tr>\n",
              "    <tr>\n",
              "      <th>...</th>\n",
              "      <td>...</td>\n",
              "      <td>...</td>\n",
              "      <td>...</td>\n",
              "      <td>...</td>\n",
              "      <td>...</td>\n",
              "      <td>...</td>\n",
              "      <td>...</td>\n",
              "      <td>...</td>\n",
              "      <td>...</td>\n",
              "    </tr>\n",
              "    <tr>\n",
              "      <th>58639</th>\n",
              "      <td>1.0</td>\n",
              "      <td>-73.999916</td>\n",
              "      <td>40.734715</td>\n",
              "      <td>-73.987579</td>\n",
              "      <td>40.721313</td>\n",
              "      <td>N</td>\n",
              "      <td>Saturday</td>\n",
              "      <td>00:16:02</td>\n",
              "      <td>2016-06-25</td>\n",
              "    </tr>\n",
              "    <tr>\n",
              "      <th>58640</th>\n",
              "      <td>1.0</td>\n",
              "      <td>-73.977867</td>\n",
              "      <td>40.754704</td>\n",
              "      <td>-73.982010</td>\n",
              "      <td>40.770699</td>\n",
              "      <td>N</td>\n",
              "      <td>Friday</td>\n",
              "      <td>12:08:07</td>\n",
              "      <td>2016-01-08</td>\n",
              "    </tr>\n",
              "    <tr>\n",
              "      <th>58641</th>\n",
              "      <td>1.0</td>\n",
              "      <td>-73.967331</td>\n",
              "      <td>40.788151</td>\n",
              "      <td>-73.963692</td>\n",
              "      <td>40.768349</td>\n",
              "      <td>N</td>\n",
              "      <td>Wednesday</td>\n",
              "      <td>21:39:28</td>\n",
              "      <td>2016-05-18</td>\n",
              "    </tr>\n",
              "    <tr>\n",
              "      <th>58642</th>\n",
              "      <td>1.0</td>\n",
              "      <td>-73.992653</td>\n",
              "      <td>40.753368</td>\n",
              "      <td>-73.971069</td>\n",
              "      <td>40.756809</td>\n",
              "      <td>N</td>\n",
              "      <td>Tuesday</td>\n",
              "      <td>19:37:38</td>\n",
              "      <td>2016-02-16</td>\n",
              "    </tr>\n",
              "    <tr>\n",
              "      <th>58643</th>\n",
              "      <td>1.0</td>\n",
              "      <td>-73.991081</td>\n",
              "      <td>40.737408</td>\n",
              "      <td>-73.987671</td>\n",
              "      <td>40.722622</td>\n",
              "      <td>N</td>\n",
              "      <td>Monday</td>\n",
              "      <td>20:35:30</td>\n",
              "      <td>2016-01-18</td>\n",
              "    </tr>\n",
              "  </tbody>\n",
              "</table>\n",
              "<p>58644 rows × 9 columns</p>\n",
              "</div>"
            ],
            "text/plain": [
              "       passenger_count  pickup_longitude  ...  pickup_time         Date\n",
              "0                  1.0        -73.979027  ...     11:35:24  2016-01-19 \n",
              "1                  1.0        -73.955513  ...     15:29:02  2016-05-16 \n",
              "2                  1.0        -73.955231  ...     08:15:05  2016-06-03 \n",
              "3                  1.0        -73.973167  ...     15:04:31  2016-04-09 \n",
              "4                  1.0        -73.972549  ...     06:58:53  2016-02-09 \n",
              "...                ...               ...  ...          ...          ...\n",
              "58639              1.0        -73.999916  ...     00:16:02  2016-06-25 \n",
              "58640              1.0        -73.977867  ...     12:08:07  2016-01-08 \n",
              "58641              1.0        -73.967331  ...     21:39:28  2016-05-18 \n",
              "58642              1.0        -73.992653  ...     19:37:38  2016-02-16 \n",
              "58643              1.0        -73.991081  ...     20:35:30  2016-01-18 \n",
              "\n",
              "[58644 rows x 9 columns]"
            ]
          },
          "metadata": {
            "tags": []
          },
          "execution_count": 25
        }
      ]
    },
    {
      "cell_type": "code",
      "metadata": {
        "id": "rkErl5kFZiug",
        "colab_type": "code",
        "outputId": "48aeebca-fb15-45b0-b3c1-7abb9bd1b1b3",
        "colab": {
          "base_uri": "https://localhost:8080/",
          "height": 151
        }
      },
      "source": [
        "dic={}\n",
        "dic=x_train['Day'].value_counts()\n",
        "#day_count=dic.values()\n",
        "name_of_day=dic.keys()\n",
        "dic.get(name_of_day)"
      ],
      "execution_count": 26,
      "outputs": [
        {
          "output_type": "execute_result",
          "data": {
            "text/plain": [
              "Friday       9105\n",
              "Thursday     8863\n",
              "Saturday     8812\n",
              "Wednesday    8353\n",
              "Tuesday      8140\n",
              "Sunday       7764\n",
              "Monday       7607\n",
              "Name: Day, dtype: int64"
            ]
          },
          "metadata": {
            "tags": []
          },
          "execution_count": 26
        }
      ]
    },
    {
      "cell_type": "code",
      "metadata": {
        "id": "I6RQsaRuZizV",
        "colab_type": "code",
        "outputId": "c46ae1e0-75fb-4eda-fdbe-64e7854ff741",
        "colab": {
          "base_uri": "https://localhost:8080/",
          "height": 403
        }
      },
      "source": [
        "import seaborn as sns\n",
        "import matplotlib.pyplot as plt\n",
        "graph=sns.barplot(x=name_of_day,y=dic.get(name_of_day))\n",
        "plt.xticks(rotation=45)\n",
        "plt.xlabel('Days')\n",
        "plt.ylabel('No of cabs booked')\n",
        "plt.title('Cabs Booked')"
      ],
      "execution_count": 27,
      "outputs": [
        {
          "output_type": "stream",
          "text": [
            "/usr/local/lib/python3.6/dist-packages/statsmodels/tools/_testing.py:19: FutureWarning: pandas.util.testing is deprecated. Use the functions in the public API at pandas.testing instead.\n",
            "  import pandas.util.testing as tm\n"
          ],
          "name": "stderr"
        },
        {
          "output_type": "execute_result",
          "data": {
            "text/plain": [
              "Text(0.5, 1.0, 'Cabs Booked')"
            ]
          },
          "metadata": {
            "tags": []
          },
          "execution_count": 27
        },
        {
          "output_type": "display_data",
          "data": {
            "image/png": "[encoded data removed]",
            "text/plain": [
              "<Figure size 432x288 with 1 Axes>"
            ]
          },
          "metadata": {
            "tags": [],
            "needs_background": "light"
          }
        }
      ]
    },
    {
      "cell_type": "code",
      "metadata": {
        "id": "4PtYW4SZQqlp",
        "colab_type": "code",
        "colab": {}
      },
      "source": [
        "x_train=x_train.drop(['store_and_fwd_flag'],axis=1)"
      ],
      "execution_count": 0,
      "outputs": []
    },
    {
      "cell_type": "code",
      "metadata": {
        "id": "L5k5Ys7sM9eh",
        "colab_type": "code",
        "outputId": "87bf98f8-ef6d-4914-93d3-733926a39dca",
        "colab": {
          "base_uri": "https://localhost:8080/",
          "height": 402
        }
      },
      "source": [
        "x_train"
      ],
      "execution_count": 29,
      "outputs": [
        {
          "output_type": "execute_result",
          "data": {
            "text/html": [
              "<div>\n",
              "<style scoped>\n",
              "    .dataframe tbody tr th:only-of-type {\n",
              "        vertical-align: middle;\n",
              "    }\n",
              "\n",
              "    .dataframe tbody tr th {\n",
              "        vertical-align: top;\n",
              "    }\n",
              "\n",
              "    .dataframe thead th {\n",
              "        text-align: right;\n",
              "    }\n",
              "</style>\n",
              "<table border=\"1\" class=\"dataframe\">\n",
              "  <thead>\n",
              "    <tr style=\"text-align: right;\">\n",
              "      <th></th>\n",
              "      <th>passenger_count</th>\n",
              "      <th>pickup_longitude</th>\n",
              "      <th>pickup_latitude</th>\n",
              "      <th>dropoff_longitude</th>\n",
              "      <th>dropoff_latitude</th>\n",
              "      <th>Day</th>\n",
              "      <th>pickup_time</th>\n",
              "      <th>Date</th>\n",
              "    </tr>\n",
              "  </thead>\n",
              "  <tbody>\n",
              "    <tr>\n",
              "      <th>0</th>\n",
              "      <td>1.0</td>\n",
              "      <td>-73.979027</td>\n",
              "      <td>40.763939</td>\n",
              "      <td>-74.005333</td>\n",
              "      <td>40.710087</td>\n",
              "      <td>Tuesday</td>\n",
              "      <td>11:35:24</td>\n",
              "      <td>2016-01-19</td>\n",
              "    </tr>\n",
              "    <tr>\n",
              "      <th>1</th>\n",
              "      <td>1.0</td>\n",
              "      <td>-73.955513</td>\n",
              "      <td>40.768593</td>\n",
              "      <td>-73.948761</td>\n",
              "      <td>40.771545</td>\n",
              "      <td>Monday</td>\n",
              "      <td>15:29:02</td>\n",
              "      <td>2016-05-16</td>\n",
              "    </tr>\n",
              "    <tr>\n",
              "      <th>2</th>\n",
              "      <td>1.0</td>\n",
              "      <td>-73.955231</td>\n",
              "      <td>40.777134</td>\n",
              "      <td>-73.788750</td>\n",
              "      <td>40.641472</td>\n",
              "      <td>Friday</td>\n",
              "      <td>08:15:05</td>\n",
              "      <td>2016-06-03</td>\n",
              "    </tr>\n",
              "    <tr>\n",
              "      <th>3</th>\n",
              "      <td>1.0</td>\n",
              "      <td>-73.973167</td>\n",
              "      <td>40.755699</td>\n",
              "      <td>-73.988655</td>\n",
              "      <td>40.736996</td>\n",
              "      <td>Saturday</td>\n",
              "      <td>15:04:31</td>\n",
              "      <td>2016-04-09</td>\n",
              "    </tr>\n",
              "    <tr>\n",
              "      <th>4</th>\n",
              "      <td>1.0</td>\n",
              "      <td>-73.972549</td>\n",
              "      <td>40.794018</td>\n",
              "      <td>-73.954056</td>\n",
              "      <td>40.766300</td>\n",
              "      <td>Tuesday</td>\n",
              "      <td>06:58:53</td>\n",
              "      <td>2016-02-09</td>\n",
              "    </tr>\n",
              "    <tr>\n",
              "      <th>...</th>\n",
              "      <td>...</td>\n",
              "      <td>...</td>\n",
              "      <td>...</td>\n",
              "      <td>...</td>\n",
              "      <td>...</td>\n",
              "      <td>...</td>\n",
              "      <td>...</td>\n",
              "      <td>...</td>\n",
              "    </tr>\n",
              "    <tr>\n",
              "      <th>58639</th>\n",
              "      <td>1.0</td>\n",
              "      <td>-73.999916</td>\n",
              "      <td>40.734715</td>\n",
              "      <td>-73.987579</td>\n",
              "      <td>40.721313</td>\n",
              "      <td>Saturday</td>\n",
              "      <td>00:16:02</td>\n",
              "      <td>2016-06-25</td>\n",
              "    </tr>\n",
              "    <tr>\n",
              "      <th>58640</th>\n",
              "      <td>1.0</td>\n",
              "      <td>-73.977867</td>\n",
              "      <td>40.754704</td>\n",
              "      <td>-73.982010</td>\n",
              "      <td>40.770699</td>\n",
              "      <td>Friday</td>\n",
              "      <td>12:08:07</td>\n",
              "      <td>2016-01-08</td>\n",
              "    </tr>\n",
              "    <tr>\n",
              "      <th>58641</th>\n",
              "      <td>1.0</td>\n",
              "      <td>-73.967331</td>\n",
              "      <td>40.788151</td>\n",
              "      <td>-73.963692</td>\n",
              "      <td>40.768349</td>\n",
              "      <td>Wednesday</td>\n",
              "      <td>21:39:28</td>\n",
              "      <td>2016-05-18</td>\n",
              "    </tr>\n",
              "    <tr>\n",
              "      <th>58642</th>\n",
              "      <td>1.0</td>\n",
              "      <td>-73.992653</td>\n",
              "      <td>40.753368</td>\n",
              "      <td>-73.971069</td>\n",
              "      <td>40.756809</td>\n",
              "      <td>Tuesday</td>\n",
              "      <td>19:37:38</td>\n",
              "      <td>2016-02-16</td>\n",
              "    </tr>\n",
              "    <tr>\n",
              "      <th>58643</th>\n",
              "      <td>1.0</td>\n",
              "      <td>-73.991081</td>\n",
              "      <td>40.737408</td>\n",
              "      <td>-73.987671</td>\n",
              "      <td>40.722622</td>\n",
              "      <td>Monday</td>\n",
              "      <td>20:35:30</td>\n",
              "      <td>2016-01-18</td>\n",
              "    </tr>\n",
              "  </tbody>\n",
              "</table>\n",
              "<p>58644 rows × 8 columns</p>\n",
              "</div>"
            ],
            "text/plain": [
              "       passenger_count  pickup_longitude  ...  pickup_time         Date\n",
              "0                  1.0        -73.979027  ...     11:35:24  2016-01-19 \n",
              "1                  1.0        -73.955513  ...     15:29:02  2016-05-16 \n",
              "2                  1.0        -73.955231  ...     08:15:05  2016-06-03 \n",
              "3                  1.0        -73.973167  ...     15:04:31  2016-04-09 \n",
              "4                  1.0        -73.972549  ...     06:58:53  2016-02-09 \n",
              "...                ...               ...  ...          ...          ...\n",
              "58639              1.0        -73.999916  ...     00:16:02  2016-06-25 \n",
              "58640              1.0        -73.977867  ...     12:08:07  2016-01-08 \n",
              "58641              1.0        -73.967331  ...     21:39:28  2016-05-18 \n",
              "58642              1.0        -73.992653  ...     19:37:38  2016-02-16 \n",
              "58643              1.0        -73.991081  ...     20:35:30  2016-01-18 \n",
              "\n",
              "[58644 rows x 8 columns]"
            ]
          },
          "metadata": {
            "tags": []
          },
          "execution_count": 29
        }
      ]
    },
    {
      "cell_type": "code",
      "metadata": {
        "id": "p0s5Czx9QqpA",
        "colab_type": "code",
        "colab": {}
      },
      "source": [
        "#encoding the Day column\n",
        "from sklearn.preprocessing import LabelEncoder\n",
        "le=LabelEncoder()\n",
        "x_train['Day']=le.fit_transform(x_train['Day']) "
      ],
      "execution_count": 0,
      "outputs": []
    },
    {
      "cell_type": "code",
      "metadata": {
        "id": "yW8ufbUcQq15",
        "colab_type": "code",
        "outputId": "bb8aca26-cf2b-44d2-c8b6-db32351bce2d",
        "colab": {
          "base_uri": "https://localhost:8080/",
          "height": 402
        }
      },
      "source": [
        "x_train #the col has been encoded"
      ],
      "execution_count": 35,
      "outputs": [
        {
          "output_type": "execute_result",
          "data": {
            "text/html": [
              "<div>\n",
              "<style scoped>\n",
              "    .dataframe tbody tr th:only-of-type {\n",
              "        vertical-align: middle;\n",
              "    }\n",
              "\n",
              "    .dataframe tbody tr th {\n",
              "        vertical-align: top;\n",
              "    }\n",
              "\n",
              "    .dataframe thead th {\n",
              "        text-align: right;\n",
              "    }\n",
              "</style>\n",
              "<table border=\"1\" class=\"dataframe\">\n",
              "  <thead>\n",
              "    <tr style=\"text-align: right;\">\n",
              "      <th></th>\n",
              "      <th>passenger_count</th>\n",
              "      <th>pickup_longitude</th>\n",
              "      <th>pickup_latitude</th>\n",
              "      <th>dropoff_longitude</th>\n",
              "      <th>dropoff_latitude</th>\n",
              "      <th>Day</th>\n",
              "      <th>pickup_time</th>\n",
              "      <th>Date</th>\n",
              "    </tr>\n",
              "  </thead>\n",
              "  <tbody>\n",
              "    <tr>\n",
              "      <th>0</th>\n",
              "      <td>1.0</td>\n",
              "      <td>-73.979027</td>\n",
              "      <td>40.763939</td>\n",
              "      <td>-74.005333</td>\n",
              "      <td>40.710087</td>\n",
              "      <td>5</td>\n",
              "      <td>11:35:24</td>\n",
              "      <td>2016-01-19</td>\n",
              "    </tr>\n",
              "    <tr>\n",
              "      <th>1</th>\n",
              "      <td>1.0</td>\n",
              "      <td>-73.955513</td>\n",
              "      <td>40.768593</td>\n",
              "      <td>-73.948761</td>\n",
              "      <td>40.771545</td>\n",
              "      <td>1</td>\n",
              "      <td>15:29:02</td>\n",
              "      <td>2016-05-16</td>\n",
              "    </tr>\n",
              "    <tr>\n",
              "      <th>2</th>\n",
              "      <td>1.0</td>\n",
              "      <td>-73.955231</td>\n",
              "      <td>40.777134</td>\n",
              "      <td>-73.788750</td>\n",
              "      <td>40.641472</td>\n",
              "      <td>0</td>\n",
              "      <td>08:15:05</td>\n",
              "      <td>2016-06-03</td>\n",
              "    </tr>\n",
              "    <tr>\n",
              "      <th>3</th>\n",
              "      <td>1.0</td>\n",
              "      <td>-73.973167</td>\n",
              "      <td>40.755699</td>\n",
              "      <td>-73.988655</td>\n",
              "      <td>40.736996</td>\n",
              "      <td>2</td>\n",
              "      <td>15:04:31</td>\n",
              "      <td>2016-04-09</td>\n",
              "    </tr>\n",
              "    <tr>\n",
              "      <th>4</th>\n",
              "      <td>1.0</td>\n",
              "      <td>-73.972549</td>\n",
              "      <td>40.794018</td>\n",
              "      <td>-73.954056</td>\n",
              "      <td>40.766300</td>\n",
              "      <td>5</td>\n",
              "      <td>06:58:53</td>\n",
              "      <td>2016-02-09</td>\n",
              "    </tr>\n",
              "    <tr>\n",
              "      <th>...</th>\n",
              "      <td>...</td>\n",
              "      <td>...</td>\n",
              "      <td>...</td>\n",
              "      <td>...</td>\n",
              "      <td>...</td>\n",
              "      <td>...</td>\n",
              "      <td>...</td>\n",
              "      <td>...</td>\n",
              "    </tr>\n",
              "    <tr>\n",
              "      <th>58639</th>\n",
              "      <td>1.0</td>\n",
              "      <td>-73.999916</td>\n",
              "      <td>40.734715</td>\n",
              "      <td>-73.987579</td>\n",
              "      <td>40.721313</td>\n",
              "      <td>2</td>\n",
              "      <td>00:16:02</td>\n",
              "      <td>2016-06-25</td>\n",
              "    </tr>\n",
              "    <tr>\n",
              "      <th>58640</th>\n",
              "      <td>1.0</td>\n",
              "      <td>-73.977867</td>\n",
              "      <td>40.754704</td>\n",
              "      <td>-73.982010</td>\n",
              "      <td>40.770699</td>\n",
              "      <td>0</td>\n",
              "      <td>12:08:07</td>\n",
              "      <td>2016-01-08</td>\n",
              "    </tr>\n",
              "    <tr>\n",
              "      <th>58641</th>\n",
              "      <td>1.0</td>\n",
              "      <td>-73.967331</td>\n",
              "      <td>40.788151</td>\n",
              "      <td>-73.963692</td>\n",
              "      <td>40.768349</td>\n",
              "      <td>6</td>\n",
              "      <td>21:39:28</td>\n",
              "      <td>2016-05-18</td>\n",
              "    </tr>\n",
              "    <tr>\n",
              "      <th>58642</th>\n",
              "      <td>1.0</td>\n",
              "      <td>-73.992653</td>\n",
              "      <td>40.753368</td>\n",
              "      <td>-73.971069</td>\n",
              "      <td>40.756809</td>\n",
              "      <td>5</td>\n",
              "      <td>19:37:38</td>\n",
              "      <td>2016-02-16</td>\n",
              "    </tr>\n",
              "    <tr>\n",
              "      <th>58643</th>\n",
              "      <td>1.0</td>\n",
              "      <td>-73.991081</td>\n",
              "      <td>40.737408</td>\n",
              "      <td>-73.987671</td>\n",
              "      <td>40.722622</td>\n",
              "      <td>1</td>\n",
              "      <td>20:35:30</td>\n",
              "      <td>2016-01-18</td>\n",
              "    </tr>\n",
              "  </tbody>\n",
              "</table>\n",
              "<p>58644 rows × 8 columns</p>\n",
              "</div>"
            ],
            "text/plain": [
              "       passenger_count  pickup_longitude  ...  pickup_time         Date\n",
              "0                  1.0        -73.979027  ...     11:35:24  2016-01-19 \n",
              "1                  1.0        -73.955513  ...     15:29:02  2016-05-16 \n",
              "2                  1.0        -73.955231  ...     08:15:05  2016-06-03 \n",
              "3                  1.0        -73.973167  ...     15:04:31  2016-04-09 \n",
              "4                  1.0        -73.972549  ...     06:58:53  2016-02-09 \n",
              "...                ...               ...  ...          ...          ...\n",
              "58639              1.0        -73.999916  ...     00:16:02  2016-06-25 \n",
              "58640              1.0        -73.977867  ...     12:08:07  2016-01-08 \n",
              "58641              1.0        -73.967331  ...     21:39:28  2016-05-18 \n",
              "58642              1.0        -73.992653  ...     19:37:38  2016-02-16 \n",
              "58643              1.0        -73.991081  ...     20:35:30  2016-01-18 \n",
              "\n",
              "[58644 rows x 8 columns]"
            ]
          },
          "metadata": {
            "tags": []
          },
          "execution_count": 35
        }
      ]
    },
    {
      "cell_type": "code",
      "metadata": {
        "id": "kgn1RwVATi2A",
        "colab_type": "code",
        "colab": {}
      },
      "source": [
        "#now we will calculate the total seconds which will be equal to the sum of seconds of pick up and that of the date. \n",
        "#This sum will represent the unix time till the specifc time  \n",
        "x_train['Total_Seconds']=0"
      ],
      "execution_count": 0,
      "outputs": []
    },
    {
      "cell_type": "code",
      "metadata": {
        "id": "eqZRmJXkUVqs",
        "colab_type": "code",
        "colab": {}
      },
      "source": [
        "import time\n",
        "import datetime\n",
        "tot_sec=[]\n",
        "sec=x_train['pickup_time']\n",
        "dates=x_train['Date']\n",
        "for i in range(len(x_train.index)):\n",
        "  t=sec[i]\n",
        "  t=t.split(':')\n",
        "  t=int(t[0])*3600+int(t[1])*60+int(t[2])\n",
        "  d=dates[i]\n",
        "  d1=d.split('-')\n",
        "  d2=datetime.date(int(d1[0]),int(d1[1]),int(d1[2]))\n",
        "  unixtime = time.mktime(d2.timetuple())\n",
        "  add=t+int(unixtime)\n",
        "  tot_sec.append(add)\n",
        "#len(tot_sec)==len(x_train['Day'])\n",
        "x_train['Total_Seconds']=tot_sec"
      ],
      "execution_count": 0,
      "outputs": []
    },
    {
      "cell_type": "code",
      "metadata": {
        "id": "sHAg3NS9VdL9",
        "colab_type": "code",
        "colab": {
          "base_uri": "https://localhost:8080/",
          "height": 34
        },
        "outputId": "24a8d524-8ffa-4f83-a37b-1e4c931afd1c"
      },
      "source": [
        "#for testing purposes \n",
        "'''\n",
        "time=x_train['pickup_time']\n",
        "d=time[2]\n",
        "d=d.split(':')\n",
        "d=int(d[0])*3600+int(d[1])*60+int(d[2])\n",
        "print(d)\n",
        "'''\n",
        "'''\n",
        "d = datetime.date(2015,1,5)\n",
        "unixtime = time.mktime(d.timetuple())\n",
        "unixtime=int(unixtime)\n",
        "unixtime'''"
      ],
      "execution_count": 46,
      "outputs": [
        {
          "output_type": "execute_result",
          "data": {
            "text/plain": [
              "1420416000"
            ]
          },
          "metadata": {
            "tags": []
          },
          "execution_count": 46
        }
      ]
    },
    {
      "cell_type": "code",
      "metadata": {
        "id": "YYpH0BumhBVQ",
        "colab_type": "code",
        "colab": {
          "base_uri": "https://localhost:8080/",
          "height": 402
        },
        "outputId": "588971d4-f253-426f-be50-9cbcd94e3f07"
      },
      "source": [
        " x_train"
      ],
      "execution_count": 63,
      "outputs": [
        {
          "output_type": "execute_result",
          "data": {
            "text/html": [
              "<div>\n",
              "<style scoped>\n",
              "    .dataframe tbody tr th:only-of-type {\n",
              "        vertical-align: middle;\n",
              "    }\n",
              "\n",
              "    .dataframe tbody tr th {\n",
              "        vertical-align: top;\n",
              "    }\n",
              "\n",
              "    .dataframe thead th {\n",
              "        text-align: right;\n",
              "    }\n",
              "</style>\n",
              "<table border=\"1\" class=\"dataframe\">\n",
              "  <thead>\n",
              "    <tr style=\"text-align: right;\">\n",
              "      <th></th>\n",
              "      <th>passenger_count</th>\n",
              "      <th>pickup_longitude</th>\n",
              "      <th>pickup_latitude</th>\n",
              "      <th>dropoff_longitude</th>\n",
              "      <th>dropoff_latitude</th>\n",
              "      <th>Day</th>\n",
              "      <th>pickup_time</th>\n",
              "      <th>Date</th>\n",
              "      <th>Total_Seconds</th>\n",
              "    </tr>\n",
              "  </thead>\n",
              "  <tbody>\n",
              "    <tr>\n",
              "      <th>0</th>\n",
              "      <td>1.0</td>\n",
              "      <td>-73.979027</td>\n",
              "      <td>40.763939</td>\n",
              "      <td>-74.005333</td>\n",
              "      <td>40.710087</td>\n",
              "      <td>5</td>\n",
              "      <td>11:35:24</td>\n",
              "      <td>2016-01-19</td>\n",
              "      <td>1453203324</td>\n",
              "    </tr>\n",
              "    <tr>\n",
              "      <th>1</th>\n",
              "      <td>1.0</td>\n",
              "      <td>-73.955513</td>\n",
              "      <td>40.768593</td>\n",
              "      <td>-73.948761</td>\n",
              "      <td>40.771545</td>\n",
              "      <td>1</td>\n",
              "      <td>15:29:02</td>\n",
              "      <td>2016-05-16</td>\n",
              "      <td>1463412542</td>\n",
              "    </tr>\n",
              "    <tr>\n",
              "      <th>2</th>\n",
              "      <td>1.0</td>\n",
              "      <td>-73.955231</td>\n",
              "      <td>40.777134</td>\n",
              "      <td>-73.788750</td>\n",
              "      <td>40.641472</td>\n",
              "      <td>0</td>\n",
              "      <td>08:15:05</td>\n",
              "      <td>2016-06-03</td>\n",
              "      <td>1464941705</td>\n",
              "    </tr>\n",
              "    <tr>\n",
              "      <th>3</th>\n",
              "      <td>1.0</td>\n",
              "      <td>-73.973167</td>\n",
              "      <td>40.755699</td>\n",
              "      <td>-73.988655</td>\n",
              "      <td>40.736996</td>\n",
              "      <td>2</td>\n",
              "      <td>15:04:31</td>\n",
              "      <td>2016-04-09</td>\n",
              "      <td>1460214271</td>\n",
              "    </tr>\n",
              "    <tr>\n",
              "      <th>4</th>\n",
              "      <td>1.0</td>\n",
              "      <td>-73.972549</td>\n",
              "      <td>40.794018</td>\n",
              "      <td>-73.954056</td>\n",
              "      <td>40.766300</td>\n",
              "      <td>5</td>\n",
              "      <td>06:58:53</td>\n",
              "      <td>2016-02-09</td>\n",
              "      <td>1455001133</td>\n",
              "    </tr>\n",
              "    <tr>\n",
              "      <th>...</th>\n",
              "      <td>...</td>\n",
              "      <td>...</td>\n",
              "      <td>...</td>\n",
              "      <td>...</td>\n",
              "      <td>...</td>\n",
              "      <td>...</td>\n",
              "      <td>...</td>\n",
              "      <td>...</td>\n",
              "      <td>...</td>\n",
              "    </tr>\n",
              "    <tr>\n",
              "      <th>58639</th>\n",
              "      <td>1.0</td>\n",
              "      <td>-73.999916</td>\n",
              "      <td>40.734715</td>\n",
              "      <td>-73.987579</td>\n",
              "      <td>40.721313</td>\n",
              "      <td>2</td>\n",
              "      <td>00:16:02</td>\n",
              "      <td>2016-06-25</td>\n",
              "      <td>1466813762</td>\n",
              "    </tr>\n",
              "    <tr>\n",
              "      <th>58640</th>\n",
              "      <td>1.0</td>\n",
              "      <td>-73.977867</td>\n",
              "      <td>40.754704</td>\n",
              "      <td>-73.982010</td>\n",
              "      <td>40.770699</td>\n",
              "      <td>0</td>\n",
              "      <td>12:08:07</td>\n",
              "      <td>2016-01-08</td>\n",
              "      <td>1452254887</td>\n",
              "    </tr>\n",
              "    <tr>\n",
              "      <th>58641</th>\n",
              "      <td>1.0</td>\n",
              "      <td>-73.967331</td>\n",
              "      <td>40.788151</td>\n",
              "      <td>-73.963692</td>\n",
              "      <td>40.768349</td>\n",
              "      <td>6</td>\n",
              "      <td>21:39:28</td>\n",
              "      <td>2016-05-18</td>\n",
              "      <td>1463607568</td>\n",
              "    </tr>\n",
              "    <tr>\n",
              "      <th>58642</th>\n",
              "      <td>1.0</td>\n",
              "      <td>-73.992653</td>\n",
              "      <td>40.753368</td>\n",
              "      <td>-73.971069</td>\n",
              "      <td>40.756809</td>\n",
              "      <td>5</td>\n",
              "      <td>19:37:38</td>\n",
              "      <td>2016-02-16</td>\n",
              "      <td>1455651458</td>\n",
              "    </tr>\n",
              "    <tr>\n",
              "      <th>58643</th>\n",
              "      <td>1.0</td>\n",
              "      <td>-73.991081</td>\n",
              "      <td>40.737408</td>\n",
              "      <td>-73.987671</td>\n",
              "      <td>40.722622</td>\n",
              "      <td>1</td>\n",
              "      <td>20:35:30</td>\n",
              "      <td>2016-01-18</td>\n",
              "      <td>1453149330</td>\n",
              "    </tr>\n",
              "  </tbody>\n",
              "</table>\n",
              "<p>58644 rows × 9 columns</p>\n",
              "</div>"
            ],
            "text/plain": [
              "       passenger_count  pickup_longitude  ...         Date  Total_Seconds\n",
              "0                  1.0        -73.979027  ...  2016-01-19      1453203324\n",
              "1                  1.0        -73.955513  ...  2016-05-16      1463412542\n",
              "2                  1.0        -73.955231  ...  2016-06-03      1464941705\n",
              "3                  1.0        -73.973167  ...  2016-04-09      1460214271\n",
              "4                  1.0        -73.972549  ...  2016-02-09      1455001133\n",
              "...                ...               ...  ...          ...            ...\n",
              "58639              1.0        -73.999916  ...  2016-06-25      1466813762\n",
              "58640              1.0        -73.977867  ...  2016-01-08      1452254887\n",
              "58641              1.0        -73.967331  ...  2016-05-18      1463607568\n",
              "58642              1.0        -73.992653  ...  2016-02-16      1455651458\n",
              "58643              1.0        -73.991081  ...  2016-01-18      1453149330\n",
              "\n",
              "[58644 rows x 9 columns]"
            ]
          },
          "metadata": {
            "tags": []
          },
          "execution_count": 63
        }
      ]
    },
    {
      "cell_type": "code",
      "metadata": {
        "id": "IbsDKnHe9X7b",
        "colab_type": "code",
        "colab": {}
      },
      "source": [
        "#Now since we have taken and used the values of the col pickup_time and Date , resourcefully. So we will drop them.\n",
        "#Additional and redundant cols etc is not good for our model .\n",
        "x_train=x_train.drop(['pickup_time','Date'],axis=1)"
      ],
      "execution_count": 0,
      "outputs": []
    },
    {
      "cell_type": "code",
      "metadata": {
        "id": "9-ibN5UHOHjq",
        "colab_type": "code",
        "colab": {}
      },
      "source": [
        "from sklearn.ensemble import RandomForestRegressor\n",
        "regressor=RandomForestRegressor(random_state=0,n_estimators=1000)"
      ],
      "execution_count": 0,
      "outputs": []
    },
    {
      "cell_type": "code",
      "metadata": {
        "id": "5AD0I-csOHnW",
        "colab_type": "code",
        "outputId": "e534b021-de1f-4687-b672-e51dfd20d8e6",
        "colab": {
          "base_uri": "https://localhost:8080/",
          "height": 134
        }
      },
      "source": [
        "regressor.fit(x_train,y_train)"
      ],
      "execution_count": 67,
      "outputs": [
        {
          "output_type": "execute_result",
          "data": {
            "text/plain": [
              "RandomForestRegressor(bootstrap=True, ccp_alpha=0.0, criterion='mse',\n",
              "                      max_depth=None, max_features='auto', max_leaf_nodes=None,\n",
              "                      max_samples=None, min_impurity_decrease=0.0,\n",
              "                      min_impurity_split=None, min_samples_leaf=1,\n",
              "                      min_samples_split=2, min_weight_fraction_leaf=0.0,\n",
              "                      n_estimators=1000, n_jobs=None, oob_score=False,\n",
              "                      random_state=0, verbose=0, warm_start=False)"
            ]
          },
          "metadata": {
            "tags": []
          },
          "execution_count": 67
        }
      ]
    },
    {
      "cell_type": "code",
      "metadata": {
        "id": "KGi-qg8DXL6L",
        "colab_type": "code",
        "outputId": "409a0369-4fbf-4641-e83b-83f3fd3b7064",
        "colab": {
          "base_uri": "https://localhost:8080/",
          "height": 34
        }
      },
      "source": [
        "acc=regressor.score(x_train,y_train)\n",
        "print(\"Train score: {0:.2f} %\".format(100 * acc))"
      ],
      "execution_count": 68,
      "outputs": [
        {
          "output_type": "stream",
          "text": [
            "Train score: 85.78 %\n"
          ],
          "name": "stdout"
        }
      ]
    },
    {
      "cell_type": "code",
      "metadata": {
        "id": "gMrojlNfgoia",
        "colab_type": "code",
        "colab": {
          "base_uri": "https://localhost:8080/",
          "height": 34
        },
        "outputId": "bc3e8dc4-715d-427d-efb3-7a7555c2d324"
      },
      "source": [
        "'''\n",
        "import pickle\n",
        "pkl_filename = \"pickle_model.pkl\"\n",
        "with open(pkl_filename, 'wb') as file:\n",
        "    pickle.dump(regressor, file)\n",
        "model_json=regressor.to_json()\n",
        "with open('model.json','w') as json_file:\n",
        "  json_file.write(model_json)\n",
        "  model.save_weights('model_weights.h5')\n",
        "print('Model saved to disk')\n",
        "'''\n",
        "import joblib\n",
        "filename = 'finalized_model.sav'\n",
        "joblib.dump(regressor, filename)"
      ],
      "execution_count": 71,
      "outputs": [
        {
          "output_type": "execute_result",
          "data": {
            "text/plain": [
              "['finalized_model.sav']"
            ]
          },
          "metadata": {
            "tags": []
          },
          "execution_count": 71
        }
      ]
    },
    {
      "cell_type": "code",
      "metadata": {
        "id": "Mhu8HK6UCrDh",
        "colab_type": "code",
        "colab": {}
      },
      "source": [
        ""
      ],
      "execution_count": 0,
      "outputs": []
    },
    {
      "cell_type": "code",
      "metadata": {
        "id": "cKNrk0Em4Xsk",
        "colab_type": "code",
        "colab": {}
      },
      "source": [
        ""
      ],
      "execution_count": 0,
      "outputs": []
    }
  ]
}